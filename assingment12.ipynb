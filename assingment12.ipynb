{
 "cells": [
  {
   "cell_type": "markdown",
   "id": "7bd65d7c-d451-4a7d-94be-35ccf09077f9",
   "metadata": {},
   "source": [
    "1. In what modes should the PdfFileReader() and PdfFileWriter() File objects will be opened?\n",
    "\n",
    "  Ans : PdfFileReader() needs to be opened in read-binary mode by passing 'rb' as the second argument to open(). Likewise, the File object passed to PyPDF2. PdfFileWriter() needs to be opened in write-binary mode with 'wb'."
   ]
  },
  {
   "cell_type": "markdown",
   "id": "648c7a5c-90f3-42b4-b6ae-9d39aa4f724f",
   "metadata": {},
   "source": [
    "2.From a PdfFileReader object, how do you get a Page object for page 5?\n",
    "\n",
    "Ans. Calling getPage(4) will return a Page object for page 5 since page 0 is the first page"
   ]
  },
  {
   "cell_type": "markdown",
   "id": "124ca02f-d1dd-4e41-802c-43d53264d960",
   "metadata": {},
   "source": [
    "3. What PdfFileReader variable stores the number of pages in the PDF document?\n",
    "\n",
    "  Ans:  The total number of pages in the document is stored in the numPages attribute of a PdfFileReader object \n",
    "     "
   ]
  },
  {
   "cell_type": "markdown",
   "id": "1421ca51-3336-4084-a306-0079e6278bc9",
   "metadata": {},
   "source": [
    "4. If a PdfFileReader object’s PDF is encrypted with the password swordfish, what must you do\n",
    "before you can obtain Page objects from it?\n",
    "\n",
    "Ans. Before we obtain the page object, the pdf has to be decrypted by calling .decrypt('swordfish')\n"
   ]
  },
  {
   "cell_type": "markdown",
   "id": "575f8406-3412-4c89-a50d-66e794c1abd5",
   "metadata": {},
   "source": [
    "  5. What methods do you use to rotate a page?\n",
    "  \n",
    "Ans : pageObj.rotateClockwise(180)\n",
    "\n",
    "#The rotateClockwise() and rotateCounterClockwise() methods. The degrees to rotate is passed as an integer argument"
   ]
  },
  {
   "cell_type": "markdown",
   "id": "3922f51a-fe63-47ca-99d8-1915627f406e",
   "metadata": {},
   "source": [
    "6. What is the difference between a Run object and a Paragraph object?\n",
    "\n",
    "Ans : Paragraph Object : A document contains multiple paragraphs. A paragraph begins on a new line and contains multiple\n",
    "runs. The Document object contains a list of Paragraph objects for the paragraphs in the document. (A new paragraph begins whenever the user presses ENTER or RETURN while typing in a Word document.)\n",
    "\n",
    "Run Objects : Runs are contiguous groups of characters within a paragraph with the same style\n"
   ]
  },
  {
   "cell_type": "code",
   "execution_count": 15,
   "id": "4aa233dd-b097-4eec-bc91-a05a106d3fec",
   "metadata": {},
   "outputs": [
    {
     "name": "stdout",
     "output_type": "stream",
     "text": [
      "Requirement already satisfied: python-docx in /opt/conda/lib/python3.10/site-packages (0.8.11)\n",
      "Requirement already satisfied: lxml>=2.3.2 in /opt/conda/lib/python3.10/site-packages (from python-docx) (4.9.3)\n"
     ]
    }
   ],
   "source": [
    "# 7. How do you obtain a list of Paragraph objects for a Document object that’s stored in a variable named doc?\n",
    "!pip install python-docx\n",
    "#import docx\n",
    "#doc = docx.Document('abc.docx')\n",
    "#doc.paragraphs\n",
    "#By using doc.paragraphs\n"
   ]
  },
  {
   "cell_type": "markdown",
   "id": "893b52de-c9d2-41e4-9e22-b251b48559fe",
   "metadata": {},
   "source": [
    "8. What type of object has bold, underline, italic, strike, and outline variables?\n",
    "\n",
    "Ans. A Run object has bold, underline,italic,strike and outline variables"
   ]
  },
  {
   "cell_type": "markdown",
   "id": "5754752b-02fb-4a1e-b1db-e91fb9bebc03",
   "metadata": {},
   "source": [
    "9. What is the difference between False, True, and None for the bold variable?\n",
    "\n",
    "Ans : 1.Runs can be further styled using text attributes. Each attribute can be set to one of three values:\n",
    "True (the attribute is always enabled, no matter what other styles are applied to the run),\n",
    "False (the attribute is always disabled),\n",
    "None (defaults to whatever the run’s style is set to)\n",
    "\n",
    "True always makes the Run object bolded and False makes it always not bolded, no matter what the style’s bold setting is. None will make the Run object just use the style’s bold setting"
   ]
  },
  {
   "cell_type": "markdown",
   "id": "5598a0ea-0f0d-43d2-8c53-d3c038c81ece",
   "metadata": {},
   "source": [
    "10. How do you create a Document object for a new Word document?\n",
    "\n",
    "Ans:  By Calling the docx.Document() function."
   ]
  },
  {
   "cell_type": "code",
   "execution_count": 16,
   "id": "4ede15c5-136e-4d73-82e0-ab6b317a688b",
   "metadata": {},
   "outputs": [],
   "source": [
    "# 11. How do you add a paragraph with the text &#39;Hello, there!&#39; to a Document object stored in a variable named doc?\n",
    "\n",
    "import docx\n",
    "doc = docx.Document()\n",
    "\n",
    "doc.add_paragraph('Hello there!')\n",
    "doc.save('hellothere.docx')\n",
    "     \n"
   ]
  },
  {
   "cell_type": "code",
   "execution_count": null,
   "id": "08105e36-ccd3-4c0c-9d71-2e736ee21f16",
   "metadata": {},
   "outputs": [],
   "source": [
    "12. What integers represent the levels of headings available in Word documents?\n",
    "\n",
    "integer from 0 to 4\n",
    "The arguments to add_heading() are a string of the heading text and an integer from 0 to 4. The integer 0 makes the heading the Title style, which is used for the top of the document. Integers 1 to 4 are for various heading levels, with 1 being the main heading and 4 the lowest subheading"
   ]
  }
 ],
 "metadata": {
  "kernelspec": {
   "display_name": "Python 3 (ipykernel)",
   "language": "python",
   "name": "python3"
  },
  "language_info": {
   "codemirror_mode": {
    "name": "ipython",
    "version": 3
   },
   "file_extension": ".py",
   "mimetype": "text/x-python",
   "name": "python",
   "nbconvert_exporter": "python",
   "pygments_lexer": "ipython3",
   "version": "3.10.6"
  }
 },
 "nbformat": 4,
 "nbformat_minor": 5
}
